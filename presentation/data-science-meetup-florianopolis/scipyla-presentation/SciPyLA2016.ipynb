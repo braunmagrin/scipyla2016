{
 "cells": [
  {
   "cell_type": "markdown",
   "metadata": {
    "slideshow": {
     "slide_type": "slide"
    }
   },
   "source": [
    "![](img/scipy.png)"
   ]
  },
  {
   "cell_type": "markdown",
   "metadata": {
    "slideshow": {
     "slide_type": "slide"
    }
   },
   "source": [
    "Agrupamos os usuários de Python no âmbito científico, para centralizar a comunicação a nível regional.\n",
    "\n",
    "Pretendemos chegar aos usuários, acadêmicos e empresas, afim de promover o uso de Python, trocar informações, compartilhar experiências em geral, e ser uma referência local no uso e difusão desta tecnologia na ciência.\n",
    "\n",
    "Nossos objetivos são simples:\n",
    "\n",
    "* Fomentar a ciência;\n",
    "* Fomentar a adoção da computação como ferramenta para o estudo científico;\n",
    "* Fomentar o uso de Python como principal ferramenta computacional na ciência."
   ]
  },
  {
   "cell_type": "markdown",
   "metadata": {
    "slideshow": {
     "slide_type": "slide"
    }
   },
   "source": [
    "# ¿Por qué participar?\n",
    "\n",
    "Para conhecer as ferramentas e bibliotecas de uso científico desenvolvidas pela comunidade em todo mundo, trocar experiências, conhecer as vantagens da linguagem Python para a comunidade científica, realizar encontros, fóruns de discussões, e projetos educacionais e de pesquisa para o desenvolvimento científico relacionados com Python.\n",
    "\n"
   ]
  },
  {
   "cell_type": "markdown",
   "metadata": {
    "slideshow": {
     "slide_type": "slide"
    }
   },
   "source": [
    "#¿Por dónde empezar?\n",
    "\n",
    "Depende ...\n",
    "\n",
    "* Se não ainda conhece Python (e quer aprender): Esta página de python.org https://docs.python.org tem uma recompilação de links y materiais úteis para aqueles que se iniciam nesta linguagem.\n",
    "* Se já sabe Python e quer dedicar-se à ciência com a linguagem: Pode unir-te ao nosso fórum (https://groups.google.com/forum/#!forum/scipyla)."
   ]
  },
  {
   "cell_type": "markdown",
   "metadata": {
    "slideshow": {
     "slide_type": "slide"
    }
   },
   "source": [
    "# SciPyLA 2015\n",
    "\n",
    "# Posadas, Misiones, Argentina\n",
    "\n",
    "Videos: Youtube > UGD TV Académico > scipyla 2015"
   ]
  },
  {
   "cell_type": "markdown",
   "metadata": {
    "slideshow": {
     "slide_type": "slide"
    }
   },
   "source": [
    "# SciPyLA 2016\n",
    "\n",
    "## Florianópolis, maio de 2016\n",
    "\n",
    "http://conf.scipyla.org"
   ]
  },
  {
   "cell_type": "markdown",
   "metadata": {
    "slideshow": {
     "slide_type": "slide"
    }
   },
   "source": [
    "# ¡Gracias!\n",
    "\n",
    "ivan.ogasawara@gmail.com"
   ]
  }
 ],
 "metadata": {
  "celltoolbar": "Slideshow",
  "kernelspec": {
   "display_name": "Python 3",
   "language": "python",
   "name": "python3"
  },
  "language_info": {
   "codemirror_mode": {
    "name": "ipython",
    "version": 3
   },
   "file_extension": ".py",
   "mimetype": "text/x-python",
   "name": "python",
   "nbconvert_exporter": "python",
   "pygments_lexer": "ipython3",
   "version": "3.4.0"
  }
 },
 "nbformat": 4,
 "nbformat_minor": 0
}
