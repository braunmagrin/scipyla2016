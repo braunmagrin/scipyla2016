{
 "cells": [
  {
   "cell_type": "markdown",
   "metadata": {
    "slideshow": {
     "slide_type": "slide"
    }
   },
   "source": [
    "# PyLadies Floripa - Python para iniciantes"
   ]
  },
  {
   "cell_type": "markdown",
   "metadata": {},
   "source": [
    "## Instalando\n",
    "\n",
    "A instalação do Python é geralmente fácil, e hoje em dia muitas distribuições Linux e UNIX incluem um Python recente. Até mesmo alguns computadores com Windows (especificamente os da HP) já vêm com Python já instalado. Se você precisa instalar o Python e não está confiante sobre a tarefa, pode encontrar algumas notas sobre o tema na página wiki do Guia-Iniciante/Download (http://wiki.python.org/moin/BeginnersGuide/Download), mas a instalação é normal na maioria das plataformas.\n",
    "\n",
    "Fonte: https://www.python.org/about/gettingstarted/"
   ]
  },
  {
   "cell_type": "markdown",
   "metadata": {},
   "source": [
    "## Aprendendo\n",
    "\n",
    "Antes de começar, você pode querer descobrir quais IDEs (http://wiki.python.org/moin/IntegratedDevelopmentEnvironments) e editores de texto (http://wiki.python.org/moin/PythonEditors) são feitas sob medida para tornar a edição Python fácil, navegar na lista de livros introdutórios, ou olhar para exemplos de código que você pode achar útil.\n",
    "\n",
    "Há uma lista de tutoriais adequados para programadores experientes na página Guia  do iniciante/ Tutoriais. Há também uma lista de recursos em outros idiomas (https://www.python.org/doc/nonenglish/) que podem ser úteis se o Inglês não é sua primeira língua.\n",
    "A documentação on-line (https://docs.python.org/3/) é o seu primeiro porto de escala para a informação definitiva. Há um breve tutorial (http://docs.python.org/3/tutorial/) que lhe dá informações básicas sobre a língua e se você começou. Você pode segui-lo, olhando para a biblioteca de referência (http://docs.python.org/3/library/) para uma descrição completa das muitas bibliotecas do Python e a referência da linguagem (http://docs.python.org/3/reference/) para uma explicação completa (embora um pouco enxuta) de sintaxe do Python. Se você está à procura de receitas Python comuns e padrões, você pode navegar na ActiveState Python Cookbook (http://code.activestate.com/recipes/langs/python/).\n",
    "\n",
    "Fonte: https://www.python.org/about/gettingstarted/"
   ]
  },
  {
   "cell_type": "markdown",
   "metadata": {},
   "source": [
    "### Cursos online (Grátis)\n",
    "\n",
    "Existem vários canais com cursos grátis que trabalham conceitos básicos com Python como: Udacity, Coursera, Edx, etc. Abaixo, alguns cursos do Udacity:\n",
    "\n",
    "Programming Foundations with Python\n",
    "- https://www.udacity.com/courses/ud036\n",
    "\n",
    "Intro to Computer Science\n",
    "- https://www.udacity.com/courses/cs101\n",
    "\n",
    "Design of Computer Programs\n",
    "- https://www.udacity.com/courses/cs212\n",
    "\n",
    "No site www.springboard.com, poderás encontrar uma lista com vários cursos:\n",
    "- http://tinyurl.com/hx7m6o9 "
   ]
  },
  {
   "cell_type": "markdown",
   "metadata": {
    "slideshow": {
     "slide_type": "slide"
    }
   },
   "source": [
    "## Conteúdo Geral\n",
    "\n",
    "* Introdução à Programação - Conceitos básicos\n",
    "* Introdução ao Mundo Python\n",
    "* Introdução à programação com Python"
   ]
  },
  {
   "cell_type": "markdown",
   "metadata": {
    "slideshow": {
     "slide_type": "slide"
    }
   },
   "source": [
    "## Introdução à Programação"
   ]
  },
  {
   "cell_type": "markdown",
   "metadata": {
    "slideshow": {
     "slide_type": "slide"
    }
   },
   "source": [
    "### Conteúdo\n",
    "\n",
    "* O que é Linguagem de Programação?\n",
    "* O que é um interpretador de códigos?\n",
    "* O que é IDE?"
   ]
  },
  {
   "cell_type": "markdown",
   "metadata": {
    "slideshow": {
     "slide_type": "slide"
    }
   },
   "source": [
    "### O que é a Linguagem de Programação?\n",
    "\n",
    "Podemos imaginar o computador como uma super calculadora, capaz de fazer cálculos muito mais rápido que nós, mas para isso devemos dizer para o computador o que deve ser calculado e como deve ser calculado. A função das linguagens de programação é exatamente essa, ou seja, servir de um meio de comunicação entre computadores e humanos.\n",
    "\n",
    "Existem dois tipos de linguagens de programação: as de baixo nível e as de alto nível. Os computadores interpretam tudo como números em base binária, ou seja, só entendem zero e um. As linguagens de baixo nível são interpretadas diretamente pelo computador, tendo um resultado rápido, porém é muito difícil e incômodo se trabalhar com elas. Exemplos de linguagens de baixo nível são a linguagem binária e a linguagem Assembly.\n",
    "\n",
    "Fonte: http://www.infoescola.com/informatica/o-que-sao-linguagens-de-programacao/"
   ]
  },
  {
   "cell_type": "markdown",
   "metadata": {},
   "source": [
    "Exemplo de código escrito em Assembly:\n",
    "\n",
    "> MOV r0, #0C ;load base address of string into r0\n",
    "\n",
    "> LOAD: MOV r1,(r0) ;load contents into r1\n",
    "\n",
    "> CALL PRINT ; call a print routine to print the character in r1\n",
    "\n",
    "> INC r0 ;point to next character\n",
    "\n",
    "> JMP LOAD ;load next character\n",
    "\n",
    "Fonte: http://www.infoescola.com/informatica/o-que-sao-linguagens-de-programacao/"
   ]
  },
  {
   "cell_type": "markdown",
   "metadata": {
    "slideshow": {
     "slide_type": "slide"
    }
   },
   "source": [
    "Quando programamos em uma linguagem de programação de alto nível primeiramente criamos um arquivo de texto comum contendo a lógica do programa, ou seja, é onde falamos ao computador como deve ser feito o que queremos. Este arquivo de texto é chamado de código-fonte, cada palavra de ordem dentro do código-fonte é chamada de instrução. Após criarmos o código-fonte devemos traduzir este arquivo para linguagem binária usando o compilador correspondente com a linguagem na qual estamos programando. O compilador irá gerar um segundo arquivo que chamamos de executável ou programa, este arquivo gerado é interpretado diretamente pelo computador.\n",
    "\n",
    "Fonte: http://www.infoescola.com/informatica/o-que-sao-linguagens-de-programacao/"
   ]
  },
  {
   "cell_type": "markdown",
   "metadata": {},
   "source": [
    "### O que é um interpretador de códigos?"
   ]
  },
  {
   "cell_type": "markdown",
   "metadata": {},
   "source": [
    "Interpretadores são programas de computador que leem um código fonte de uma linguagem de programação interpretada e o converte em código executável. Seu funcionamento pode variar de acordo com a implementação. Em alguns casos, o interpretador lê linha-por-linha e converte em código objeto (ou bytecode) à medida que vai executando o programa e, em outros casos, converte o código fonte por inteiro e depois o executa.\n",
    "\n",
    "Fonte: https://pt.wikipedia.org/wiki/Interpretador"
   ]
  },
  {
   "cell_type": "markdown",
   "metadata": {},
   "source": [
    "### O que é IDE?\n",
    "\n",
    "IDE, do inglês Integrated Development Environment ou Ambiente de Desenvolvimento Integrado, é um programa de computador que reúne características e ferramentas de apoio ao desenvolvimento de software com o objetivo de agilizar este processo.\n",
    "\n",
    "Fonte: https://pt.wikipedia.org/wiki/Ambiente_de_desenvolvimento_integrado"
   ]
  },
  {
   "cell_type": "markdown",
   "metadata": {},
   "source": [
    "#### IDEs para programar em Python\n",
    "\n",
    "As principais IDEs utilzadas para python:\n",
    "\n",
    "* Spyder: Parte do pacote Anaconda (https://pythonhosted.org/spyder/installation.html)\n",
    "* Rodeo: https://github.com/yhat/rodeo\n",
    "* Pydev: http://www.pydev.org/\n",
    "* PyCharm: https://www.jetbrains.com/pycharm/"
   ]
  },
  {
   "cell_type": "markdown",
   "metadata": {
    "slideshow": {
     "slide_type": "slide"
    }
   },
   "source": [
    "## Introdução ao Mundo Python"
   ]
  },
  {
   "cell_type": "markdown",
   "metadata": {
    "slideshow": {
     "slide_type": "slide"
    }
   },
   "source": [
    "### Conteúdo\n",
    "\n",
    "#### Aplicações\n",
    "- Sistemas WEB\n",
    "- Notebook Science\n",
    "- Manipulação de dados\n",
    "- Gráficos\n",
    "- Python para cientistas"
   ]
  },
  {
   "cell_type": "markdown",
   "metadata": {
    "slideshow": {
     "slide_type": "slide"
    }
   },
   "source": [
    "#### Sistemas WEB\n",
    "\n",
    "Principais plataformas:\n",
    "\n",
    "- Django (https://www.djangoproject.com/)\n",
    "- Flask (http://flask.pocoo.org/)\n",
    "- Pyramid (http://www.pylonsproject.org/)\n",
    "- Zope (http://zope.org/)"
   ]
  },
  {
   "cell_type": "markdown",
   "metadata": {
    "slideshow": {
     "slide_type": "slide"
    }
   },
   "source": [
    "#### Notebook Science\n",
    "\n",
    "- jupyter (http://jupyter.org/)"
   ]
  },
  {
   "cell_type": "markdown",
   "metadata": {
    "slideshow": {
     "slide_type": "slide"
    }
   },
   "source": [
    "#### Manipulação de dados\n",
    "\n",
    "- pandas (http://pandas.pydata.org/)"
   ]
  },
  {
   "cell_type": "code",
   "execution_count": 1,
   "metadata": {
    "collapsed": false,
    "slideshow": {
     "slide_type": "slide"
    }
   },
   "outputs": [
    {
     "data": {
      "text/html": [
       "<div>\n",
       "<table border=\"1\" class=\"dataframe\">\n",
       "  <thead>\n",
       "    <tr style=\"text-align: right;\">\n",
       "      <th></th>\n",
       "      <th>resultado</th>\n",
       "      <th>resultado2</th>\n",
       "    </tr>\n",
       "  </thead>\n",
       "  <tbody>\n",
       "    <tr>\n",
       "      <th>0</th>\n",
       "      <td>0.721045</td>\n",
       "      <td>72.104482</td>\n",
       "    </tr>\n",
       "    <tr>\n",
       "      <th>1</th>\n",
       "      <td>0.292741</td>\n",
       "      <td>29.274103</td>\n",
       "    </tr>\n",
       "    <tr>\n",
       "      <th>2</th>\n",
       "      <td>0.124831</td>\n",
       "      <td>12.483051</td>\n",
       "    </tr>\n",
       "    <tr>\n",
       "      <th>3</th>\n",
       "      <td>0.228595</td>\n",
       "      <td>22.859547</td>\n",
       "    </tr>\n",
       "    <tr>\n",
       "      <th>4</th>\n",
       "      <td>0.446997</td>\n",
       "      <td>44.699692</td>\n",
       "    </tr>\n",
       "  </tbody>\n",
       "</table>\n",
       "</div>"
      ],
      "text/plain": [
       "   resultado  resultado2\n",
       "0   0.721045   72.104482\n",
       "1   0.292741   29.274103\n",
       "2   0.124831   12.483051\n",
       "3   0.228595   22.859547\n",
       "4   0.446997   44.699692"
      ]
     },
     "metadata": {},
     "output_type": "display_data"
    }
   ],
   "source": [
    "from IPython.display import display\n",
    "import pandas as pd\n",
    "import numpy as np\n",
    "\n",
    "df = pd.DataFrame({'resultado': np.random.random(5)})\n",
    "df['resultado2'] = df.resultado * 100\n",
    "\n",
    "display(df)"
   ]
  },
  {
   "cell_type": "markdown",
   "metadata": {
    "slideshow": {
     "slide_type": "slide"
    }
   },
   "source": [
    "#### Gráficos\n",
    "\n",
    "- matplotlib (http://matplotlib.org/)\n",
    "- bokeh (bokeh.pydata.org)"
   ]
  },
  {
   "cell_type": "code",
   "execution_count": 2,
   "metadata": {
    "collapsed": false,
    "slideshow": {
     "slide_type": "slide"
    }
   },
   "outputs": [
    {
     "data": {
      "image/png": "[encoded data removed]",
      "text/plain": [
       "<matplotlib.figure.Figure at 0x7f19b073b400>"
      ]
     },
     "metadata": {},
     "output_type": "display_data"
    }
   ],
   "source": [
    "%matplotlib inline\n",
    "from matplotlib import pyplot as plt\n",
    "\n",
    "df.plot()\n",
    "plt.show()"
   ]
  },
  {
   "cell_type": "markdown",
   "metadata": {
    "slideshow": {
     "slide_type": "slide"
    }
   },
   "source": [
    "#### Python para cientistas\n",
    "\n",
    "https://www.researchgate.net/publication/269995603_Why_scientists_should_learn_to_program_in_Python"
   ]
  },
  {
   "cell_type": "markdown",
   "metadata": {
    "slideshow": {
     "slide_type": "slide"
    }
   },
   "source": [
    "## Introdução à programação com Python"
   ]
  },
  {
   "cell_type": "markdown",
   "metadata": {
    "slideshow": {
     "slide_type": "slide"
    }
   },
   "source": [
    "### Conteúdo\n",
    "\n",
    "* Tipos dados\n",
    "* Estruturas de controle\n",
    "* Estruturas de repetição\n",
    "* Exemplos\n",
    " - Ordenamento de lista com map\n",
    " - Filtros em lista com filter\n",
    "* Exercício\n",
    " - Criar uma lista com todos as cartas de um baralho. Embaralhar as cartas do baralho. Tirar 3 cartas do baralho para o jogador 1 e outras 3 para o jogador 2;"
   ]
  },
  {
   "cell_type": "markdown",
   "metadata": {
    "slideshow": {
     "slide_type": "slide"
    }
   },
   "source": [
    "### Tipos de dados"
   ]
  },
  {
   "cell_type": "code",
   "execution_count": 3,
   "metadata": {
    "collapsed": false,
    "slideshow": {
     "slide_type": "slide"
    }
   },
   "outputs": [],
   "source": [
    "# número inteiro\n",
    "x = 1\n",
    "\n",
    "# número decimal (ou real)\n",
    "x = 1.2\n",
    "\n",
    "# texto\n",
    "x = 'PyLadies'\n",
    "\n",
    "# lista\n",
    "x = [1, 3, 5, 7, 9]\n",
    "\n",
    "# tupla\n",
    "x = (1, 2, 3, 4)\n",
    "\n",
    "# Conjunto não ordenado, não contém elementos duplicados\n",
    "x = {1, 2, 2, 2, 3}  # {1, 2, 3}\n",
    "x = set([1, 2, 2, 2, 3])\n",
    "\n",
    "# dicionário\n",
    "x = {'nome_evento': 'PyLadies', 'data': '30/01/2016'}"
   ]
  },
  {
   "cell_type": "markdown",
   "metadata": {
    "slideshow": {
     "slide_type": "slide"
    }
   },
   "source": [
    "### Estrutura de seleção"
   ]
  },
  {
   "cell_type": "code",
   "execution_count": 4,
   "metadata": {
    "collapsed": false
   },
   "outputs": [
    {
     "name": "stdout",
     "output_type": "stream",
     "text": [
      "x menor que 10\n"
     ]
    }
   ],
   "source": [
    "x = 1\n",
    "\n",
    "if x < 10:\n",
    "    print('x menor que 10')\n",
    "elif x == 10:\n",
    "    print('x igual a 10')\n",
    "else:\n",
    "    print('x maior que 10')"
   ]
  },
  {
   "cell_type": "markdown",
   "metadata": {
    "slideshow": {
     "slide_type": "slide"
    }
   },
   "source": [
    "### Estruturas de repetição"
   ]
  },
  {
   "cell_type": "code",
   "execution_count": 5,
   "metadata": {
    "collapsed": false
   },
   "outputs": [
    {
     "name": "stdout",
     "output_type": "stream",
     "text": [
      "usando while\n",
      "0, 1, 2, 3, 4, 5, 6, 7, 8, 9, \n",
      "usando for\n",
      "0, 1, 2, 3, 4, 5, 6, 7, 8, 9, "
     ]
    }
   ],
   "source": [
    "x = 0\n",
    "\n",
    "print('usando while')\n",
    "while x < 10:\n",
    "    print(x, end=', ')\n",
    "    x += 1\n",
    "\n",
    "print('')\n",
    "print('usando for')\n",
    "for x in range(10):\n",
    "    print(x, end=', ')"
   ]
  },
  {
   "cell_type": "markdown",
   "metadata": {
    "slideshow": {
     "slide_type": "slide"
    }
   },
   "source": [
    "### Exemplos\n",
    " - Ordenamento de lista com sorted\n",
    " - Transformar lista com map\n",
    " - Filtros em lista com filter"
   ]
  },
  {
   "cell_type": "markdown",
   "metadata": {},
   "source": [
    "#### Ordenamento de lista com sort"
   ]
  },
  {
   "cell_type": "code",
   "execution_count": 6,
   "metadata": {
    "collapsed": false
   },
   "outputs": [
    {
     "name": "stdout",
     "output_type": "stream",
     "text": [
      "[4, 4, 5, 7, 11, 22, 34, 50, 67]\n",
      "[67, 50, 34, 22, 11, 7, 5, 4, 4]\n"
     ]
    }
   ],
   "source": [
    "idades = [4, 7, 22, 34, 11, 5, 67, 50, 4]\n",
    "\n",
    "print(sorted(idades))\n",
    "print(sorted(idades, reverse=True))"
   ]
  },
  {
   "cell_type": "markdown",
   "metadata": {},
   "source": [
    "#### Transformar lista com map"
   ]
  },
  {
   "cell_type": "code",
   "execution_count": 7,
   "metadata": {
    "collapsed": false
   },
   "outputs": [
    {
     "name": "stdout",
     "output_type": "stream",
     "text": [
      "['4 ano(s)', '7 ano(s)', '22 ano(s)', '34 ano(s)', '11 ano(s)', '5 ano(s)', '67 ano(s)', '50 ano(s)', '4 ano(s)']\n"
     ]
    }
   ],
   "source": [
    "def transformar_idades(v):\n",
    "    return '%s ano(s)' % v\n",
    "\n",
    "idades_texto = map(transformar_idades, idades)\n",
    "print(list(idades_texto))"
   ]
  },
  {
   "cell_type": "markdown",
   "metadata": {},
   "source": [
    "#### Filtros em lista com filter"
   ]
  },
  {
   "cell_type": "code",
   "execution_count": 8,
   "metadata": {
    "collapsed": false
   },
   "outputs": [
    {
     "name": "stdout",
     "output_type": "stream",
     "text": [
      "[34, 67, 50]\n"
     ]
    }
   ],
   "source": [
    "def idade_eh_maior_que_25(v):\n",
    "    return v > 25\n",
    "\n",
    "idades_maior_que_25 = filter(idade_eh_maior_que_25, idades)\n",
    "print(list(idades_maior_que_25))"
   ]
  },
  {
   "cell_type": "code",
   "execution_count": 9,
   "metadata": {
    "collapsed": false
   },
   "outputs": [
    {
     "name": "stdout",
     "output_type": "stream",
     "text": [
      "The Zen of Python, by Tim Peters\n",
      "\n",
      "Beautiful is better than ugly.\n",
      "Explicit is better than implicit.\n",
      "Simple is better than complex.\n",
      "Complex is better than complicated.\n",
      "Flat is better than nested.\n",
      "Sparse is better than dense.\n",
      "Readability counts.\n",
      "Special cases aren't special enough to break the rules.\n",
      "Although practicality beats purity.\n",
      "Errors should never pass silently.\n",
      "Unless explicitly silenced.\n",
      "In the face of ambiguity, refuse the temptation to guess.\n",
      "There should be one-- and preferably only one --obvious way to do it.\n",
      "Although that way may not be obvious at first unless you're Dutch.\n",
      "Now is better than never.\n",
      "Although never is often better than *right* now.\n",
      "If the implementation is hard to explain, it's a bad idea.\n",
      "If the implementation is easy to explain, it may be a good idea.\n",
      "Namespaces are one honking great idea -- let's do more of those!\n"
     ]
    }
   ],
   "source": [
    "import this"
   ]
  },
  {
   "cell_type": "markdown",
   "metadata": {},
   "source": [
    "```\n",
    "O Zen do Python, por Tim Peters\n",
    "\n",
    "Bonito é melhor que feio.\n",
    "Explícito é melhor que implícito.\n",
    "Simples é melhor que complexo.\n",
    "Complexo é melhor que complicado.\n",
    "Linear é melhor do que aninhado.\n",
    "Esparso é melhor que denso.\n",
    "Legibilidade conta.\n",
    "Casos especiais não são especiais o bastante para quebrar as regras.\n",
    "Ainda que praticidade vença a pureza.\n",
    "Erros nunca devem passar silenciosamente.\n",
    "A menos que sejam explicitamente silenciados.\n",
    "Diante da ambigüidade, recuse a tentação de adivinhar.\n",
    "Deveria haver um — e preferencialmente só um — modo óbvio para fazer algo.\n",
    "Embora esse modo possa não ser óbvio a princípio a menos que você seja holandês.\n",
    "Agora é melhor que nunca.\n",
    "Embora nunca freqüentemente seja melhor que *já*.\n",
    "Se a implementação é difícil de explicar, é uma má idéia.\n",
    "Se a implementação é fácil de explicar, pode ser uma boa idéia.\n",
    "Namespaces são uma grande idéia — vamos ter mais dessas!\n",
    "```"
   ]
  },
  {
   "cell_type": "markdown",
   "metadata": {
    "slideshow": {
     "slide_type": "slide"
    }
   },
   "source": [
    "### Exercício\n",
    "\n",
    " - Criar uma lista com 10 alturas aleatórias. Filtre por alturas menores que 1.5 (representa metros) e a armazene em outra variável. Por fim, crie uma nova lista que seja o valor dessas alturas, em formato texto, com a unidade após o valor.\n",
    " \n",
    "#### Lista de discussão\n",
    "https://groups.google.com/forum/#!forum/pyladies-floripa"
   ]
  },
  {
   "cell_type": "markdown",
   "metadata": {
    "collapsed": true,
    "slideshow": {
     "slide_type": "slide"
    }
   },
   "source": [
    "## Referências\n",
    "\n",
    "- https://www.python.org/about/gettingstarted/\n",
    "- http://www.infoescola.com/informatica/o-que-sao-linguagens-de-programacao/\n",
    "- https://pt.wikipedia.org/wiki/Interpretador\n",
    "- https://pt.wikipedia.org/wiki/Ambiente_de_desenvolvimento_integrado"
   ]
  }
 ],
 "metadata": {
  "celltoolbar": "Slideshow",
  "kernelspec": {
   "display_name": "Python 3",
   "language": "python",
   "name": "python3"
  },
  "language_info": {
   "codemirror_mode": {
    "name": "ipython",
    "version": 3
   },
   "file_extension": ".py",
   "mimetype": "text/x-python",
   "name": "python",
   "nbconvert_exporter": "python",
   "pygments_lexer": "ipython3",
   "version": "3.4.3"
  }
 },
 "nbformat": 4,
 "nbformat_minor": 0
}
